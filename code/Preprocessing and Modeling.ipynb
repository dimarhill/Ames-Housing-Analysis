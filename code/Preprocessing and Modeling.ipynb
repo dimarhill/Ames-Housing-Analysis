{
 "cells": [
  {
   "cell_type": "markdown",
   "id": "fe218311",
   "metadata": {},
   "source": [
    "# Ames Housing Project Part 2 - Preprocessing and Modeling\n",
    "\n",
    "---\n",
    "\n",
    "_Author: Matthew Hill_"
   ]
  },
  {
   "cell_type": "markdown",
   "id": "4f42cca2",
   "metadata": {},
   "source": [
    "### Importing Data\n",
    "---"
   ]
  },
  {
   "cell_type": "code",
   "execution_count": 205,
   "id": "4fdadd1a",
   "metadata": {},
   "outputs": [],
   "source": [
    "import numpy as np\n",
    "import pandas as pd\n",
    "import matplotlib.pyplot as plt\n",
    "import seaborn as sns\n",
    "\n",
    "from sklearn.impute import SimpleImputer\n",
    "from sklearn.model_selection import train_test_split, cross_val_score\n",
    "from sklearn.linear_model import LinearRegression\n",
    "from sklearn.preprocessing import StandardScaler, PolynomialFeatures, OneHotEncoder\n",
    "from sklearn.compose import ColumnTransformer\n",
    "from sklearn import metrics\n",
    "from sklearn.linear_model import Ridge\n",
    "from sklearn.linear_model import RidgeCV\n",
    "from sklearn.linear_model import Lasso, LassoCV\n",
    "import pickle"
   ]
  },
  {
   "cell_type": "markdown",
   "id": "39d4323f",
   "metadata": {},
   "source": [
    "### _Subsets for Model_\n",
    "---"
   ]
  },
  {
   "cell_type": "code",
   "execution_count": 206,
   "id": "3293e700",
   "metadata": {},
   "outputs": [],
   "source": [
    "df_train = pd.read_csv('../datasets/trainsubset.csv')\n",
    "df_test = pd.read_csv('../datasets/testsubset.csv')"
   ]
  },
  {
   "cell_type": "code",
   "execution_count": 207,
   "id": "34619092",
   "metadata": {},
   "outputs": [
    {
     "data": {
      "text/html": [
       "<div>\n",
       "<style scoped>\n",
       "    .dataframe tbody tr th:only-of-type {\n",
       "        vertical-align: middle;\n",
       "    }\n",
       "\n",
       "    .dataframe tbody tr th {\n",
       "        vertical-align: top;\n",
       "    }\n",
       "\n",
       "    .dataframe thead th {\n",
       "        text-align: right;\n",
       "    }\n",
       "</style>\n",
       "<table border=\"1\" class=\"dataframe\">\n",
       "  <thead>\n",
       "    <tr style=\"text-align: right;\">\n",
       "      <th></th>\n",
       "      <th>Unnamed: 0</th>\n",
       "      <th>Id</th>\n",
       "      <th>Overall Qual</th>\n",
       "      <th>Gr Liv Area</th>\n",
       "      <th>Garage Area</th>\n",
       "      <th>Garage Cars</th>\n",
       "      <th>Total Bsmt SF</th>\n",
       "      <th>1st Flr SF</th>\n",
       "      <th>Year Built</th>\n",
       "      <th>Year Remod/Add</th>\n",
       "      <th>...</th>\n",
       "      <th>Bedroom AbvGr</th>\n",
       "      <th>Screen Porch</th>\n",
       "      <th>3Ssn Porch</th>\n",
       "      <th>Mo Sold</th>\n",
       "      <th>Pool Area</th>\n",
       "      <th>BsmtFin SF 2</th>\n",
       "      <th>Kitchen Qual</th>\n",
       "      <th>Exter Cond</th>\n",
       "      <th>Exter Qual</th>\n",
       "      <th>SalePrice</th>\n",
       "    </tr>\n",
       "  </thead>\n",
       "  <tbody>\n",
       "    <tr>\n",
       "      <th>0</th>\n",
       "      <td>0</td>\n",
       "      <td>2658</td>\n",
       "      <td>6</td>\n",
       "      <td>1928</td>\n",
       "      <td>440</td>\n",
       "      <td>1</td>\n",
       "      <td>1020</td>\n",
       "      <td>908</td>\n",
       "      <td>1910</td>\n",
       "      <td>1950</td>\n",
       "      <td>...</td>\n",
       "      <td>4</td>\n",
       "      <td>0</td>\n",
       "      <td>0</td>\n",
       "      <td>4</td>\n",
       "      <td>0</td>\n",
       "      <td>0</td>\n",
       "      <td>3</td>\n",
       "      <td>3</td>\n",
       "      <td>1</td>\n",
       "      <td>181469.701609</td>\n",
       "    </tr>\n",
       "    <tr>\n",
       "      <th>1</th>\n",
       "      <td>1</td>\n",
       "      <td>2718</td>\n",
       "      <td>5</td>\n",
       "      <td>1967</td>\n",
       "      <td>580</td>\n",
       "      <td>2</td>\n",
       "      <td>1967</td>\n",
       "      <td>1967</td>\n",
       "      <td>1977</td>\n",
       "      <td>1977</td>\n",
       "      <td>...</td>\n",
       "      <td>6</td>\n",
       "      <td>0</td>\n",
       "      <td>0</td>\n",
       "      <td>8</td>\n",
       "      <td>0</td>\n",
       "      <td>0</td>\n",
       "      <td>1</td>\n",
       "      <td>1</td>\n",
       "      <td>1</td>\n",
       "      <td>181469.701609</td>\n",
       "    </tr>\n",
       "    <tr>\n",
       "      <th>2</th>\n",
       "      <td>2</td>\n",
       "      <td>2414</td>\n",
       "      <td>7</td>\n",
       "      <td>1496</td>\n",
       "      <td>426</td>\n",
       "      <td>2</td>\n",
       "      <td>654</td>\n",
       "      <td>664</td>\n",
       "      <td>2006</td>\n",
       "      <td>2006</td>\n",
       "      <td>...</td>\n",
       "      <td>3</td>\n",
       "      <td>0</td>\n",
       "      <td>0</td>\n",
       "      <td>9</td>\n",
       "      <td>0</td>\n",
       "      <td>0</td>\n",
       "      <td>2</td>\n",
       "      <td>1</td>\n",
       "      <td>2</td>\n",
       "      <td>181469.701609</td>\n",
       "    </tr>\n",
       "  </tbody>\n",
       "</table>\n",
       "<p>3 rows × 36 columns</p>\n",
       "</div>"
      ],
      "text/plain": [
       "   Unnamed: 0    Id  Overall Qual  Gr Liv Area  Garage Area  Garage Cars  \\\n",
       "0           0  2658             6         1928          440            1   \n",
       "1           1  2718             5         1967          580            2   \n",
       "2           2  2414             7         1496          426            2   \n",
       "\n",
       "   Total Bsmt SF  1st Flr SF  Year Built  Year Remod/Add  ...  Bedroom AbvGr  \\\n",
       "0           1020         908        1910            1950  ...              4   \n",
       "1           1967        1967        1977            1977  ...              6   \n",
       "2            654         664        2006            2006  ...              3   \n",
       "\n",
       "   Screen Porch  3Ssn Porch  Mo Sold  Pool Area  BsmtFin SF 2  Kitchen Qual  \\\n",
       "0             0           0        4          0             0             3   \n",
       "1             0           0        8          0             0             1   \n",
       "2             0           0        9          0             0             2   \n",
       "\n",
       "   Exter Cond  Exter Qual      SalePrice  \n",
       "0           3           1  181469.701609  \n",
       "1           1           1  181469.701609  \n",
       "2           1           2  181469.701609  \n",
       "\n",
       "[3 rows x 36 columns]"
      ]
     },
     "execution_count": 207,
     "metadata": {},
     "output_type": "execute_result"
    }
   ],
   "source": [
    "df_test.head(3)"
   ]
  },
  {
   "cell_type": "code",
   "execution_count": 208,
   "id": "c08f1a99",
   "metadata": {},
   "outputs": [
    {
     "data": {
      "text/html": [
       "<div>\n",
       "<style scoped>\n",
       "    .dataframe tbody tr th:only-of-type {\n",
       "        vertical-align: middle;\n",
       "    }\n",
       "\n",
       "    .dataframe tbody tr th {\n",
       "        vertical-align: top;\n",
       "    }\n",
       "\n",
       "    .dataframe thead th {\n",
       "        text-align: right;\n",
       "    }\n",
       "</style>\n",
       "<table border=\"1\" class=\"dataframe\">\n",
       "  <thead>\n",
       "    <tr style=\"text-align: right;\">\n",
       "      <th></th>\n",
       "      <th>Unnamed: 0</th>\n",
       "      <th>Id</th>\n",
       "      <th>Overall Qual</th>\n",
       "      <th>Gr Liv Area</th>\n",
       "      <th>Garage Area</th>\n",
       "      <th>Garage Cars</th>\n",
       "      <th>Total Bsmt SF</th>\n",
       "      <th>1st Flr SF</th>\n",
       "      <th>Year Built</th>\n",
       "      <th>Year Remod/Add</th>\n",
       "      <th>...</th>\n",
       "      <th>Bedroom AbvGr</th>\n",
       "      <th>Screen Porch</th>\n",
       "      <th>3Ssn Porch</th>\n",
       "      <th>Mo Sold</th>\n",
       "      <th>Pool Area</th>\n",
       "      <th>BsmtFin SF 2</th>\n",
       "      <th>Kitchen Qual</th>\n",
       "      <th>Exter Cond</th>\n",
       "      <th>Exter Qual</th>\n",
       "      <th>SalePrice</th>\n",
       "    </tr>\n",
       "  </thead>\n",
       "  <tbody>\n",
       "    <tr>\n",
       "      <th>0</th>\n",
       "      <td>0</td>\n",
       "      <td>109</td>\n",
       "      <td>6.0</td>\n",
       "      <td>1479.0</td>\n",
       "      <td>475.0</td>\n",
       "      <td>2.0</td>\n",
       "      <td>725.0</td>\n",
       "      <td>725.0</td>\n",
       "      <td>1976.0</td>\n",
       "      <td>2005.0</td>\n",
       "      <td>...</td>\n",
       "      <td>3</td>\n",
       "      <td>0</td>\n",
       "      <td>0</td>\n",
       "      <td>3</td>\n",
       "      <td>0</td>\n",
       "      <td>0.0</td>\n",
       "      <td>2</td>\n",
       "      <td>1</td>\n",
       "      <td>2</td>\n",
       "      <td>130500</td>\n",
       "    </tr>\n",
       "    <tr>\n",
       "      <th>1</th>\n",
       "      <td>1</td>\n",
       "      <td>544</td>\n",
       "      <td>7.0</td>\n",
       "      <td>2122.0</td>\n",
       "      <td>559.0</td>\n",
       "      <td>2.0</td>\n",
       "      <td>913.0</td>\n",
       "      <td>913.0</td>\n",
       "      <td>1996.0</td>\n",
       "      <td>1997.0</td>\n",
       "      <td>...</td>\n",
       "      <td>4</td>\n",
       "      <td>0</td>\n",
       "      <td>0</td>\n",
       "      <td>4</td>\n",
       "      <td>0</td>\n",
       "      <td>0.0</td>\n",
       "      <td>2</td>\n",
       "      <td>1</td>\n",
       "      <td>2</td>\n",
       "      <td>220000</td>\n",
       "    </tr>\n",
       "    <tr>\n",
       "      <th>2</th>\n",
       "      <td>2</td>\n",
       "      <td>153</td>\n",
       "      <td>5.0</td>\n",
       "      <td>1057.0</td>\n",
       "      <td>246.0</td>\n",
       "      <td>1.0</td>\n",
       "      <td>1057.0</td>\n",
       "      <td>1057.0</td>\n",
       "      <td>1953.0</td>\n",
       "      <td>2007.0</td>\n",
       "      <td>...</td>\n",
       "      <td>3</td>\n",
       "      <td>0</td>\n",
       "      <td>0</td>\n",
       "      <td>1</td>\n",
       "      <td>0</td>\n",
       "      <td>0.0</td>\n",
       "      <td>2</td>\n",
       "      <td>2</td>\n",
       "      <td>1</td>\n",
       "      <td>109000</td>\n",
       "    </tr>\n",
       "  </tbody>\n",
       "</table>\n",
       "<p>3 rows × 36 columns</p>\n",
       "</div>"
      ],
      "text/plain": [
       "   Unnamed: 0   Id  Overall Qual  Gr Liv Area  Garage Area  Garage Cars  \\\n",
       "0           0  109           6.0       1479.0        475.0          2.0   \n",
       "1           1  544           7.0       2122.0        559.0          2.0   \n",
       "2           2  153           5.0       1057.0        246.0          1.0   \n",
       "\n",
       "   Total Bsmt SF  1st Flr SF  Year Built  Year Remod/Add  ...  Bedroom AbvGr  \\\n",
       "0          725.0       725.0      1976.0          2005.0  ...              3   \n",
       "1          913.0       913.0      1996.0          1997.0  ...              4   \n",
       "2         1057.0      1057.0      1953.0          2007.0  ...              3   \n",
       "\n",
       "   Screen Porch  3Ssn Porch  Mo Sold  Pool Area  BsmtFin SF 2  Kitchen Qual  \\\n",
       "0             0           0        3          0           0.0             2   \n",
       "1             0           0        4          0           0.0             2   \n",
       "2             0           0        1          0           0.0             2   \n",
       "\n",
       "   Exter Cond  Exter Qual  SalePrice  \n",
       "0           1           2     130500  \n",
       "1           1           2     220000  \n",
       "2           2           1     109000  \n",
       "\n",
       "[3 rows x 36 columns]"
      ]
     },
     "execution_count": 208,
     "metadata": {},
     "output_type": "execute_result"
    }
   ],
   "source": [
    "df_train.head(3)"
   ]
  },
  {
   "cell_type": "markdown",
   "id": "de948769",
   "metadata": {},
   "source": [
    "##### Drop 'Unnamed: 0' columns\n",
    "---"
   ]
  },
  {
   "cell_type": "code",
   "execution_count": 209,
   "id": "b8a54910",
   "metadata": {},
   "outputs": [],
   "source": [
    "df_train.drop(columns=['Unnamed: 0'], inplace = True)"
   ]
  },
  {
   "cell_type": "code",
   "execution_count": 210,
   "id": "d92397db",
   "metadata": {},
   "outputs": [
    {
     "data": {
      "text/html": [
       "<div>\n",
       "<style scoped>\n",
       "    .dataframe tbody tr th:only-of-type {\n",
       "        vertical-align: middle;\n",
       "    }\n",
       "\n",
       "    .dataframe tbody tr th {\n",
       "        vertical-align: top;\n",
       "    }\n",
       "\n",
       "    .dataframe thead th {\n",
       "        text-align: right;\n",
       "    }\n",
       "</style>\n",
       "<table border=\"1\" class=\"dataframe\">\n",
       "  <thead>\n",
       "    <tr style=\"text-align: right;\">\n",
       "      <th></th>\n",
       "      <th>Id</th>\n",
       "      <th>Overall Qual</th>\n",
       "      <th>Gr Liv Area</th>\n",
       "      <th>Garage Area</th>\n",
       "      <th>Garage Cars</th>\n",
       "      <th>Total Bsmt SF</th>\n",
       "      <th>1st Flr SF</th>\n",
       "      <th>Year Built</th>\n",
       "      <th>Year Remod/Add</th>\n",
       "      <th>Full Bath</th>\n",
       "      <th>...</th>\n",
       "      <th>Bedroom AbvGr</th>\n",
       "      <th>Screen Porch</th>\n",
       "      <th>3Ssn Porch</th>\n",
       "      <th>Mo Sold</th>\n",
       "      <th>Pool Area</th>\n",
       "      <th>BsmtFin SF 2</th>\n",
       "      <th>Kitchen Qual</th>\n",
       "      <th>Exter Cond</th>\n",
       "      <th>Exter Qual</th>\n",
       "      <th>SalePrice</th>\n",
       "    </tr>\n",
       "  </thead>\n",
       "  <tbody>\n",
       "    <tr>\n",
       "      <th>0</th>\n",
       "      <td>109</td>\n",
       "      <td>6.0</td>\n",
       "      <td>1479.0</td>\n",
       "      <td>475.0</td>\n",
       "      <td>2.0</td>\n",
       "      <td>725.0</td>\n",
       "      <td>725.0</td>\n",
       "      <td>1976.0</td>\n",
       "      <td>2005.0</td>\n",
       "      <td>2.0</td>\n",
       "      <td>...</td>\n",
       "      <td>3</td>\n",
       "      <td>0</td>\n",
       "      <td>0</td>\n",
       "      <td>3</td>\n",
       "      <td>0</td>\n",
       "      <td>0.0</td>\n",
       "      <td>2</td>\n",
       "      <td>1</td>\n",
       "      <td>2</td>\n",
       "      <td>130500</td>\n",
       "    </tr>\n",
       "    <tr>\n",
       "      <th>1</th>\n",
       "      <td>544</td>\n",
       "      <td>7.0</td>\n",
       "      <td>2122.0</td>\n",
       "      <td>559.0</td>\n",
       "      <td>2.0</td>\n",
       "      <td>913.0</td>\n",
       "      <td>913.0</td>\n",
       "      <td>1996.0</td>\n",
       "      <td>1997.0</td>\n",
       "      <td>2.0</td>\n",
       "      <td>...</td>\n",
       "      <td>4</td>\n",
       "      <td>0</td>\n",
       "      <td>0</td>\n",
       "      <td>4</td>\n",
       "      <td>0</td>\n",
       "      <td>0.0</td>\n",
       "      <td>2</td>\n",
       "      <td>1</td>\n",
       "      <td>2</td>\n",
       "      <td>220000</td>\n",
       "    </tr>\n",
       "    <tr>\n",
       "      <th>2</th>\n",
       "      <td>153</td>\n",
       "      <td>5.0</td>\n",
       "      <td>1057.0</td>\n",
       "      <td>246.0</td>\n",
       "      <td>1.0</td>\n",
       "      <td>1057.0</td>\n",
       "      <td>1057.0</td>\n",
       "      <td>1953.0</td>\n",
       "      <td>2007.0</td>\n",
       "      <td>1.0</td>\n",
       "      <td>...</td>\n",
       "      <td>3</td>\n",
       "      <td>0</td>\n",
       "      <td>0</td>\n",
       "      <td>1</td>\n",
       "      <td>0</td>\n",
       "      <td>0.0</td>\n",
       "      <td>2</td>\n",
       "      <td>2</td>\n",
       "      <td>1</td>\n",
       "      <td>109000</td>\n",
       "    </tr>\n",
       "  </tbody>\n",
       "</table>\n",
       "<p>3 rows × 35 columns</p>\n",
       "</div>"
      ],
      "text/plain": [
       "    Id  Overall Qual  Gr Liv Area  Garage Area  Garage Cars  Total Bsmt SF  \\\n",
       "0  109           6.0       1479.0        475.0          2.0          725.0   \n",
       "1  544           7.0       2122.0        559.0          2.0          913.0   \n",
       "2  153           5.0       1057.0        246.0          1.0         1057.0   \n",
       "\n",
       "   1st Flr SF  Year Built  Year Remod/Add  Full Bath  ...  Bedroom AbvGr  \\\n",
       "0       725.0      1976.0          2005.0        2.0  ...              3   \n",
       "1       913.0      1996.0          1997.0        2.0  ...              4   \n",
       "2      1057.0      1953.0          2007.0        1.0  ...              3   \n",
       "\n",
       "   Screen Porch  3Ssn Porch  Mo Sold  Pool Area  BsmtFin SF 2  Kitchen Qual  \\\n",
       "0             0           0        3          0           0.0             2   \n",
       "1             0           0        4          0           0.0             2   \n",
       "2             0           0        1          0           0.0             2   \n",
       "\n",
       "   Exter Cond  Exter Qual  SalePrice  \n",
       "0           1           2     130500  \n",
       "1           1           2     220000  \n",
       "2           2           1     109000  \n",
       "\n",
       "[3 rows x 35 columns]"
      ]
     },
     "execution_count": 210,
     "metadata": {},
     "output_type": "execute_result"
    }
   ],
   "source": [
    "df_train.head(3)"
   ]
  },
  {
   "cell_type": "code",
   "execution_count": 211,
   "id": "741b08a1",
   "metadata": {},
   "outputs": [],
   "source": [
    "df_test.drop(columns=['Unnamed: 0'], inplace = True)"
   ]
  },
  {
   "cell_type": "code",
   "execution_count": 212,
   "id": "863cdd85",
   "metadata": {},
   "outputs": [
    {
     "data": {
      "text/html": [
       "<div>\n",
       "<style scoped>\n",
       "    .dataframe tbody tr th:only-of-type {\n",
       "        vertical-align: middle;\n",
       "    }\n",
       "\n",
       "    .dataframe tbody tr th {\n",
       "        vertical-align: top;\n",
       "    }\n",
       "\n",
       "    .dataframe thead th {\n",
       "        text-align: right;\n",
       "    }\n",
       "</style>\n",
       "<table border=\"1\" class=\"dataframe\">\n",
       "  <thead>\n",
       "    <tr style=\"text-align: right;\">\n",
       "      <th></th>\n",
       "      <th>Id</th>\n",
       "      <th>Overall Qual</th>\n",
       "      <th>Gr Liv Area</th>\n",
       "      <th>Garage Area</th>\n",
       "      <th>Garage Cars</th>\n",
       "      <th>Total Bsmt SF</th>\n",
       "      <th>1st Flr SF</th>\n",
       "      <th>Year Built</th>\n",
       "      <th>Year Remod/Add</th>\n",
       "      <th>Full Bath</th>\n",
       "      <th>...</th>\n",
       "      <th>Bedroom AbvGr</th>\n",
       "      <th>Screen Porch</th>\n",
       "      <th>3Ssn Porch</th>\n",
       "      <th>Mo Sold</th>\n",
       "      <th>Pool Area</th>\n",
       "      <th>BsmtFin SF 2</th>\n",
       "      <th>Kitchen Qual</th>\n",
       "      <th>Exter Cond</th>\n",
       "      <th>Exter Qual</th>\n",
       "      <th>SalePrice</th>\n",
       "    </tr>\n",
       "  </thead>\n",
       "  <tbody>\n",
       "    <tr>\n",
       "      <th>0</th>\n",
       "      <td>2658</td>\n",
       "      <td>6</td>\n",
       "      <td>1928</td>\n",
       "      <td>440</td>\n",
       "      <td>1</td>\n",
       "      <td>1020</td>\n",
       "      <td>908</td>\n",
       "      <td>1910</td>\n",
       "      <td>1950</td>\n",
       "      <td>2</td>\n",
       "      <td>...</td>\n",
       "      <td>4</td>\n",
       "      <td>0</td>\n",
       "      <td>0</td>\n",
       "      <td>4</td>\n",
       "      <td>0</td>\n",
       "      <td>0</td>\n",
       "      <td>3</td>\n",
       "      <td>3</td>\n",
       "      <td>1</td>\n",
       "      <td>181469.701609</td>\n",
       "    </tr>\n",
       "    <tr>\n",
       "      <th>1</th>\n",
       "      <td>2718</td>\n",
       "      <td>5</td>\n",
       "      <td>1967</td>\n",
       "      <td>580</td>\n",
       "      <td>2</td>\n",
       "      <td>1967</td>\n",
       "      <td>1967</td>\n",
       "      <td>1977</td>\n",
       "      <td>1977</td>\n",
       "      <td>2</td>\n",
       "      <td>...</td>\n",
       "      <td>6</td>\n",
       "      <td>0</td>\n",
       "      <td>0</td>\n",
       "      <td>8</td>\n",
       "      <td>0</td>\n",
       "      <td>0</td>\n",
       "      <td>1</td>\n",
       "      <td>1</td>\n",
       "      <td>1</td>\n",
       "      <td>181469.701609</td>\n",
       "    </tr>\n",
       "    <tr>\n",
       "      <th>2</th>\n",
       "      <td>2414</td>\n",
       "      <td>7</td>\n",
       "      <td>1496</td>\n",
       "      <td>426</td>\n",
       "      <td>2</td>\n",
       "      <td>654</td>\n",
       "      <td>664</td>\n",
       "      <td>2006</td>\n",
       "      <td>2006</td>\n",
       "      <td>2</td>\n",
       "      <td>...</td>\n",
       "      <td>3</td>\n",
       "      <td>0</td>\n",
       "      <td>0</td>\n",
       "      <td>9</td>\n",
       "      <td>0</td>\n",
       "      <td>0</td>\n",
       "      <td>2</td>\n",
       "      <td>1</td>\n",
       "      <td>2</td>\n",
       "      <td>181469.701609</td>\n",
       "    </tr>\n",
       "  </tbody>\n",
       "</table>\n",
       "<p>3 rows × 35 columns</p>\n",
       "</div>"
      ],
      "text/plain": [
       "     Id  Overall Qual  Gr Liv Area  Garage Area  Garage Cars  Total Bsmt SF  \\\n",
       "0  2658             6         1928          440            1           1020   \n",
       "1  2718             5         1967          580            2           1967   \n",
       "2  2414             7         1496          426            2            654   \n",
       "\n",
       "   1st Flr SF  Year Built  Year Remod/Add  Full Bath  ...  Bedroom AbvGr  \\\n",
       "0         908        1910            1950          2  ...              4   \n",
       "1        1967        1977            1977          2  ...              6   \n",
       "2         664        2006            2006          2  ...              3   \n",
       "\n",
       "   Screen Porch  3Ssn Porch  Mo Sold  Pool Area  BsmtFin SF 2  Kitchen Qual  \\\n",
       "0             0           0        4          0             0             3   \n",
       "1             0           0        8          0             0             1   \n",
       "2             0           0        9          0             0             2   \n",
       "\n",
       "   Exter Cond  Exter Qual      SalePrice  \n",
       "0           3           1  181469.701609  \n",
       "1           1           1  181469.701609  \n",
       "2           1           2  181469.701609  \n",
       "\n",
       "[3 rows x 35 columns]"
      ]
     },
     "execution_count": 212,
     "metadata": {},
     "output_type": "execute_result"
    }
   ],
   "source": [
    "df_test.head(3)"
   ]
  },
  {
   "cell_type": "markdown",
   "id": "eecf264a",
   "metadata": {},
   "source": [
    "## Preprocessing and Modeling\n",
    "---"
   ]
  },
  {
   "cell_type": "markdown",
   "id": "cda6daad",
   "metadata": {},
   "source": [
    "### OLS Train/Test Split Model"
   ]
  },
  {
   "cell_type": "code",
   "execution_count": 217,
   "id": "66a83357",
   "metadata": {},
   "outputs": [],
   "source": [
    "X = df_train[['Overall Qual', 'Gr Liv Area', 'Garage Area', 'Garage Cars', 'Total Bsmt SF', '1st Flr SF', 'Year Built', 'Year Remod/Add',  'Full Bath', 'Garage Yr Blt', 'TotRms AbvGrd', 'Fireplaces', 'BsmtFin SF 1', 'Mas Vnr Area', 'Lot Frontage', 'Wood Deck SF', 'Lot Area', 'Bsmt Full Bath', 'Half Bath', '2nd Flr SF',  'Kitchen AbvGr', 'Enclosed Porch', 'Bsmt Unf SF', 'Bedroom AbvGr', 'Screen Porch', '3Ssn Porch', 'Mo Sold', 'Pool Area', 'BsmtFin SF 2', 'Kitchen Qual', 'Exter Cond', 'Exter Qual']]\n",
    "y = df_train['SalePrice']"
   ]
  },
  {
   "cell_type": "code",
   "execution_count": 218,
   "id": "f4aa01dc",
   "metadata": {},
   "outputs": [],
   "source": [
    "X_train, X_test, y_train, y_test = train_test_split(X, y, random_state=2022)"
   ]
  },
  {
   "cell_type": "code",
   "execution_count": 221,
   "id": "41bd3fc7",
   "metadata": {},
   "outputs": [],
   "source": [
    "si = SimpleImputer()\n",
    "X_train_imp = si.fit_transform(X_train)\n",
    "X_test_imp = si.transform(X_test)\n",
    "X_serving_imp = df_train[['Overall Qual', 'Gr Liv Area', 'Garage Area', 'Garage Cars', 'Total Bsmt SF', '1st Flr SF', 'Year Built', 'Year Remod/Add',  'Full Bath', 'Garage Yr Blt', 'TotRms AbvGrd', 'Fireplaces', 'BsmtFin SF 1', 'Mas Vnr Area', 'Lot Frontage', 'Wood Deck SF', 'Lot Area', 'Bsmt Full Bath', 'Half Bath', '2nd Flr SF', 'Kitchen AbvGr', 'Enclosed Porch', 'Bsmt Unf SF', 'Bedroom AbvGr', 'Screen Porch', '3Ssn Porch', 'Mo Sold', 'Pool Area', 'BsmtFin SF 2', 'Kitchen Qual', 'Exter Cond', 'Exter Qual']]"
   ]
  },
  {
   "cell_type": "markdown",
   "id": "2ae6a60f",
   "metadata": {},
   "source": [
    "#### _Scaling_"
   ]
  },
  {
   "cell_type": "code",
   "execution_count": 222,
   "id": "3a30daae",
   "metadata": {
    "scrolled": true
   },
   "outputs": [
    {
     "name": "stderr",
     "output_type": "stream",
     "text": [
      "/Users/dimarhill/opt/anaconda3/lib/python3.9/site-packages/sklearn/base.py:443: UserWarning: X has feature names, but StandardScaler was fitted without feature names\n",
      "  warnings.warn(\n"
     ]
    }
   ],
   "source": [
    "sc = StandardScaler()\n",
    "X_train_sc = sc.fit_transform(X_train_imp)\n",
    "X_test_sc = sc.transform(X_test_imp)\n",
    "X_serving_sc = sc.transform(X_serving_imp)"
   ]
  },
  {
   "cell_type": "markdown",
   "id": "02dc844e",
   "metadata": {},
   "source": [
    "#### _Instantiate_"
   ]
  },
  {
   "cell_type": "code",
   "execution_count": 171,
   "id": "a97cf4c6",
   "metadata": {},
   "outputs": [],
   "source": [
    "trainlr = LinearRegression()"
   ]
  },
  {
   "cell_type": "code",
   "execution_count": 172,
   "id": "b750812a",
   "metadata": {},
   "outputs": [
    {
     "data": {
      "text/plain": [
       "LinearRegression()"
      ]
     },
     "execution_count": 172,
     "metadata": {},
     "output_type": "execute_result"
    }
   ],
   "source": [
    "trainlr.fit(X_train_imp, y_train)"
   ]
  },
  {
   "cell_type": "markdown",
   "id": "9861b6d9",
   "metadata": {},
   "source": [
    "### Evaluating"
   ]
  },
  {
   "cell_type": "code",
   "execution_count": 173,
   "id": "a4ff2185",
   "metadata": {},
   "outputs": [
    {
     "data": {
      "text/plain": [
       "0.9008998700514652"
      ]
     },
     "execution_count": 173,
     "metadata": {},
     "output_type": "execute_result"
    }
   ],
   "source": [
    "trainlr.score(X_train_imp, y_train)"
   ]
  },
  {
   "cell_type": "code",
   "execution_count": 174,
   "id": "928b04ce",
   "metadata": {},
   "outputs": [
    {
     "data": {
      "text/plain": [
       "0.8607768340344762"
      ]
     },
     "execution_count": 174,
     "metadata": {},
     "output_type": "execute_result"
    }
   ],
   "source": [
    "trainlr.score(X_test_imp, y_test)"
   ]
  },
  {
   "cell_type": "code",
   "execution_count": 175,
   "id": "cdd5b5e3",
   "metadata": {},
   "outputs": [
    {
     "data": {
      "text/plain": [
       "0.8446465025706736"
      ]
     },
     "execution_count": 175,
     "metadata": {},
     "output_type": "execute_result"
    }
   ],
   "source": [
    "cross_val_score(trainlr, X_train_imp, y_train).mean()"
   ]
  },
  {
   "cell_type": "code",
   "execution_count": 176,
   "id": "53f6ecfc",
   "metadata": {},
   "outputs": [
    {
     "name": "stdout",
     "output_type": "stream",
     "text": [
      "-935107.573739249\n",
      "[ 1.22182722e+04  3.02498052e+01  2.36364207e+01  1.15852778e+03\n",
      "  8.12949881e+01  2.28725958e+01  2.27419406e+02  2.27888322e+02\n",
      " -3.25713781e+03 -8.45454733e+00  3.17120043e+03  3.67438839e+03\n",
      " -4.02516787e+01  3.21883517e+01  1.81136513e+02  8.01483487e+00\n",
      "  5.71288804e-01  5.95001520e+02  1.94150373e+02  1.81653841e+01\n",
      " -1.59733150e+04  5.95772612e+00 -6.30934064e+01 -5.94861542e+03\n",
      "  4.78175811e+01  1.54665739e+01  1.59001484e+02 -1.01764165e+01\n",
      " -5.62662307e+01  8.26986678e+03 -1.64374374e+03  1.17697080e+04]\n"
     ]
    }
   ],
   "source": [
    "print(trainlr.intercept_)\n",
    "print(trainlr.coef_)"
   ]
  },
  {
   "cell_type": "code",
   "execution_count": 177,
   "id": "2aee675b",
   "metadata": {},
   "outputs": [
    {
     "name": "stdout",
     "output_type": "stream",
     "text": [
      "Training R2 = 0.9008998700514652\n",
      "Testing R2 = 0.8607768340344762\n"
     ]
    }
   ],
   "source": [
    "r2_train = trainlr.score(X_train_imp, y_train)\n",
    "r2_test = trainlr.score(X_test_imp, y_test)\n",
    "\n",
    "print(f\"Training R2 = {r2_train}\")\n",
    "print(f\"Testing R2 = {r2_test}\")"
   ]
  },
  {
   "cell_type": "markdown",
   "id": "83c375b8",
   "metadata": {},
   "source": [
    "### Predictions\n",
    "---"
   ]
  },
  {
   "cell_type": "code",
   "execution_count": 224,
   "id": "f2b5ded0",
   "metadata": {},
   "outputs": [
    {
     "name": "stderr",
     "output_type": "stream",
     "text": [
      "/Users/dimarhill/opt/anaconda3/lib/python3.9/site-packages/sklearn/base.py:443: UserWarning: X has feature names, but LinearRegression was fitted without feature names\n",
      "  warnings.warn(\n"
     ]
    },
    {
     "data": {
      "text/plain": [
       "(878,)"
      ]
     },
     "execution_count": 224,
     "metadata": {},
     "output_type": "execute_result"
    }
   ],
   "source": [
    "predict = trainlr.predict(df_test[['Overall Qual', 'Gr Liv Area', 'Garage Area', 'Garage Cars', 'Total Bsmt SF', '1st Flr SF', 'Year Built', 'Year Remod/Add',  'Full Bath', 'Garage Yr Blt', 'TotRms AbvGrd', 'Fireplaces', 'BsmtFin SF 1', 'Mas Vnr Area', 'Lot Frontage', 'Wood Deck SF', 'Lot Area', 'Bsmt Full Bath', 'Half Bath', '2nd Flr SF', 'Kitchen AbvGr', 'Enclosed Porch',  'Bsmt Unf SF', 'Bedroom AbvGr', 'Screen Porch', '3Ssn Porch', 'Mo Sold', 'Pool Area', 'BsmtFin SF 2', 'Kitchen Qual', 'Exter Cond', 'Exter Qual']])\n",
    "predict.shape"
   ]
  },
  {
   "cell_type": "code",
   "execution_count": 225,
   "id": "b671aec6",
   "metadata": {},
   "outputs": [],
   "source": [
    "y_pred = trainlr.predict(X_train_imp)\n",
    "resids = y_train - y_pred"
   ]
  },
  {
   "cell_type": "code",
   "execution_count": 226,
   "id": "dde07320",
   "metadata": {},
   "outputs": [
    {
     "name": "stdout",
     "output_type": "stream",
     "text": [
      "SSE = 940627035501.4291\n",
      "MSE = 611591050.3910462\n",
      "RMSE = 24730.366968386177\n"
     ]
    }
   ],
   "source": [
    "sse = np.sum((y_train - y_pred)**2)\n",
    "mse = metrics.mean_squared_error(y_train, y_pred)\n",
    "rmse = np.sqrt(mse)\n",
    "\n",
    "print(f\"SSE = {sse}\")\n",
    "print(f\"MSE = {mse}\")\n",
    "print(f\"RMSE = {rmse}\")"
   ]
  },
  {
   "cell_type": "markdown",
   "id": "bdf983c9",
   "metadata": {},
   "source": [
    "### Ridge Model\n",
    "---"
   ]
  },
  {
   "cell_type": "code",
   "execution_count": 227,
   "id": "00962224",
   "metadata": {},
   "outputs": [
    {
     "name": "stdout",
     "output_type": "stream",
     "text": [
      "0.8782345303405373\n",
      "0.8346202617025298\n"
     ]
    }
   ],
   "source": [
    "# Instantiate.\n",
    "ridge_model = Ridge(alpha=2022)\n",
    "\n",
    "# Fit.\n",
    "ridge_model.fit(X_train_imp, y_train)\n",
    "\n",
    "# Evaluate model using R2.\n",
    "print(ridge_model.score(X_train_imp, y_train))\n",
    "print(ridge_model.score(X_test_imp, y_test))"
   ]
  },
  {
   "cell_type": "code",
   "execution_count": 228,
   "id": "79a65989",
   "metadata": {},
   "outputs": [
    {
     "data": {
      "text/plain": [
       "RidgeCV(alphas=array([1.00000000e+01, 1.09749877e+01, 1.20450354e+01, 1.32194115e+01,\n",
       "       1.45082878e+01, 1.59228279e+01, 1.74752840e+01, 1.91791026e+01,\n",
       "       2.10490414e+01, 2.31012970e+01, 2.53536449e+01, 2.78255940e+01,\n",
       "       3.05385551e+01, 3.35160265e+01, 3.67837977e+01, 4.03701726e+01,\n",
       "       4.43062146e+01, 4.86260158e+01, 5.33669923e+01, 5.85702082e+01,\n",
       "       6.42807312e+01, 7.05480231e+0...\n",
       "       1.17681195e+04, 1.29154967e+04, 1.41747416e+04, 1.55567614e+04,\n",
       "       1.70735265e+04, 1.87381742e+04, 2.05651231e+04, 2.25701972e+04,\n",
       "       2.47707636e+04, 2.71858824e+04, 2.98364724e+04, 3.27454916e+04,\n",
       "       3.59381366e+04, 3.94420606e+04, 4.32876128e+04, 4.75081016e+04,\n",
       "       5.21400829e+04, 5.72236766e+04, 6.28029144e+04, 6.89261210e+04,\n",
       "       7.56463328e+04, 8.30217568e+04, 9.11162756e+04, 1.00000000e+05]),\n",
       "        cv=5, scoring='r2')"
      ]
     },
     "execution_count": 228,
     "metadata": {},
     "output_type": "execute_result"
    }
   ],
   "source": [
    "\n",
    "alphas = np.logspace(1, 5, 100)\n",
    "\n",
    "# Cross-validate over our list of ridge alphas.\n",
    "ridge_cv = RidgeCV(alphas=alphas, scoring='r2', cv=5)\n",
    "\n",
    "# Fit model using best ridge alpha!\n",
    "ridge_cv.fit(X_train_imp, y_train)"
   ]
  },
  {
   "cell_type": "code",
   "execution_count": 229,
   "id": "1f80148d",
   "metadata": {},
   "outputs": [
    {
     "data": {
      "text/plain": [
       "657.9332246575682"
      ]
     },
     "execution_count": 229,
     "metadata": {},
     "output_type": "execute_result"
    }
   ],
   "source": [
    "ridge_cv.alpha_"
   ]
  },
  {
   "cell_type": "code",
   "execution_count": 230,
   "id": "4ec8de95",
   "metadata": {},
   "outputs": [
    {
     "name": "stdout",
     "output_type": "stream",
     "text": [
      "0.8931264490209218\n",
      "0.8505174382444999\n"
     ]
    }
   ],
   "source": [
    "print(ridge_cv.score(X_train_imp, y_train))\n",
    "print(ridge_cv.score(X_test_imp, y_test))"
   ]
  },
  {
   "cell_type": "code",
   "execution_count": 231,
   "id": "111d1da0",
   "metadata": {},
   "outputs": [
    {
     "data": {
      "text/plain": [
       "array([ 9.25947753e+03,  3.80564453e+01,  3.10532443e+01,  2.52551998e+02,\n",
       "        5.59479664e+01,  2.01854502e+01,  2.77324542e+02,  3.49977062e+02,\n",
       "       -1.26836162e+03,  6.93501357e+00,  5.58058274e+02,  2.32553103e+03,\n",
       "       -8.74623294e+00,  4.07749315e+01,  1.86093979e+02,  1.14882105e+01,\n",
       "        5.43175953e-01,  1.59023045e+01,  2.94381356e+02,  1.77078861e+01,\n",
       "       -1.56395332e+03,  1.48053842e+01, -3.17757361e+01, -4.04027686e+03,\n",
       "        5.53510146e+01,  2.22081862e+01,  1.50499492e+02,  1.83587999e+00,\n",
       "       -2.73806129e+01,  6.36673957e+03, -4.23858642e+02,  6.07529109e+03])"
      ]
     },
     "execution_count": 231,
     "metadata": {},
     "output_type": "execute_result"
    }
   ],
   "source": [
    "ridge_cv.coef_"
   ]
  },
  {
   "cell_type": "markdown",
   "id": "7d8869ef",
   "metadata": {},
   "source": [
    "### LASSO\n",
    "---"
   ]
  },
  {
   "cell_type": "code",
   "execution_count": 232,
   "id": "35ef1112",
   "metadata": {},
   "outputs": [],
   "source": [
    "# Set up a list of Lasso alphas to check.\n",
    "l_alphas = np.logspace(1, 5, 100)\n",
    "\n",
    "# Cross-validate over our list of Lasso alphas.\n",
    "lasso_cv = LassoCV(n_alphas=100, cv=5, random_state=2022, max_iter=50000)\n",
    "\n",
    "# Fit model using best ridge alpha!\n",
    "lasso_cv.fit(X_train_imp, y_train);"
   ]
  },
  {
   "cell_type": "code",
   "execution_count": 233,
   "id": "9acb474d",
   "metadata": {},
   "outputs": [
    {
     "data": {
      "text/plain": [
       "146425.7254760417"
      ]
     },
     "execution_count": 233,
     "metadata": {},
     "output_type": "execute_result"
    }
   ],
   "source": [
    "lasso_cv.alpha_"
   ]
  },
  {
   "cell_type": "code",
   "execution_count": 234,
   "id": "8b9ec77a",
   "metadata": {},
   "outputs": [
    {
     "name": "stdout",
     "output_type": "stream",
     "text": [
      "0.8250861981036434\n",
      "0.7823153815253158\n"
     ]
    }
   ],
   "source": [
    "print(lasso_cv.score(X_train_imp, y_train))\n",
    "print(lasso_cv.score(X_test_imp, y_test))"
   ]
  },
  {
   "cell_type": "code",
   "execution_count": 235,
   "id": "84d9cf34",
   "metadata": {},
   "outputs": [
    {
     "data": {
      "text/plain": [
       "array([  0.        ,  68.65099072,  57.65488752,   0.        ,\n",
       "        42.10546524,   0.56931561, 306.24598211, 256.12854657,\n",
       "         0.        ,   0.        ,  -0.        ,   0.        ,\n",
       "        23.75887357,  55.92753045,   0.        ,  11.44021635,\n",
       "         0.39828419,   0.        ,   0.        ,   0.        ,\n",
       "        -0.        ,  -0.        ,   0.        ,  -0.        ,\n",
       "         0.        ,   0.        ,   0.        ,   0.        ,\n",
       "        -0.        ,   0.        ,  -0.        ,   0.        ])"
      ]
     },
     "execution_count": 235,
     "metadata": {},
     "output_type": "execute_result"
    }
   ],
   "source": [
    "lasso_cv.coef_"
   ]
  },
  {
   "cell_type": "markdown",
   "id": "2b8b12fe",
   "metadata": {},
   "source": [
    "### _Comparison_"
   ]
  },
  {
   "cell_type": "code",
   "execution_count": 236,
   "id": "57de1f24",
   "metadata": {},
   "outputs": [
    {
     "name": "stdout",
     "output_type": "stream",
     "text": [
      "====== OLS =======\n",
      "0.9008998700514652\n",
      "0.8607768340344762\n",
      "\n",
      "===== Ridge ======\n",
      "0.8931264490209218\n",
      "0.8505174382444999\n",
      "\n",
      "===== Lasso ======\n",
      "0.8250861981036434\n",
      "0.7823153815253158\n"
     ]
    }
   ],
   "source": [
    "print(\" OLS \".center(18, \"=\"))\n",
    "print(trainlr.score(X_train_imp, y_train))\n",
    "print(trainlr.score(X_test_imp, y_test))\n",
    "print()\n",
    "print(\" Ridge \".center(18, \"=\"))\n",
    "print(ridge_cv.score(X_train_imp, y_train))\n",
    "print(ridge_cv.score(X_test_imp, y_test))\n",
    "print()\n",
    "print(\" Lasso \".center(18, \"=\"))\n",
    "print(lasso_cv.score(X_train_imp, y_train))\n",
    "print(lasso_cv.score(X_test_imp, y_test))"
   ]
  },
  {
   "cell_type": "markdown",
   "id": "76a48fd2",
   "metadata": {},
   "source": [
    "- _Looks like the OLS model performed the best._"
   ]
  },
  {
   "cell_type": "markdown",
   "id": "affa13a8",
   "metadata": {},
   "source": [
    "### LINE Assumptions\n",
    "---"
   ]
  },
  {
   "cell_type": "markdown",
   "id": "9452aa8a",
   "metadata": {},
   "source": [
    "### _I for Independence is assummed for this._"
   ]
  },
  {
   "cell_type": "code",
   "execution_count": 237,
   "id": "9b589297",
   "metadata": {},
   "outputs": [
    {
     "data": {
      "image/png": "[encoded data removed]",
      "text/plain": [
       "<Figure size 432x288 with 1 Axes>"
      ]
     },
     "metadata": {
      "needs_background": "light"
     },
     "output_type": "display_data"
    }
   ],
   "source": [
    "#N for Normality of errors\n",
    "plt.hist(resids, bins=100);"
   ]
  },
  {
   "cell_type": "code",
   "execution_count": 238,
   "id": "b4490596",
   "metadata": {
    "scrolled": true
   },
   "outputs": [
    {
     "data": {
      "text/plain": [
       "960    -115992.894597\n",
       "1192    -79684.832717\n",
       "1965    -77942.303051\n",
       "378     -77421.896281\n",
       "9       -76289.368911\n",
       "            ...      \n",
       "1164     96504.453490\n",
       "1592    107767.071988\n",
       "1503    112134.488778\n",
       "1671    160432.856511\n",
       "1796    185018.961520\n",
       "Name: SalePrice, Length: 1538, dtype: float64"
      ]
     },
     "execution_count": 238,
     "metadata": {},
     "output_type": "execute_result"
    }
   ],
   "source": [
    "resids.sort_values()"
   ]
  },
  {
   "cell_type": "markdown",
   "id": "a5480e4e",
   "metadata": {},
   "source": [
    "- _Looks fine to me._"
   ]
  },
  {
   "cell_type": "markdown",
   "id": "3656c2e3",
   "metadata": {},
   "source": [
    "### L for Linearity\n",
    "### E for equal variances"
   ]
  },
  {
   "cell_type": "code",
   "execution_count": 239,
   "id": "7192f41a",
   "metadata": {
    "scrolled": false
   },
   "outputs": [
    {
     "data": {
      "image/png": "[encoded data removed]",
      "text/plain": [
       "<Figure size 720x504 with 1 Axes>"
      ]
     },
     "metadata": {
      "needs_background": "light"
     },
     "output_type": "display_data"
    }
   ],
   "source": [
    "plt.figure(figsize=(10, 7))\n",
    "plt.scatter(y_pred, resids)\n",
    "\n",
    "\n",
    "plt.axhline(0, color='black');"
   ]
  },
  {
   "cell_type": "markdown",
   "id": "6126439b",
   "metadata": {},
   "source": [
    "- _Not 100% linear or equal variance but good enough in my opinion._"
   ]
  },
  {
   "cell_type": "code",
   "execution_count": 200,
   "id": "38f5bd53",
   "metadata": {},
   "outputs": [
    {
     "data": {
      "image/png": "[encoded data removed]",
      "text/plain": [
       "<Figure size 1800x1296 with 1 Axes>"
      ]
     },
     "metadata": {
      "needs_background": "light"
     },
     "output_type": "display_data"
    }
   ],
   "source": [
    "plt.figure(figsize = (25,18))\n",
    "plt.scatter(y_train, y_pred)\n",
    "plt.plot(y,y, color='red')\n",
    "plt.title('Actual Vs. Predicted Price', size = 30);\n",
    "plt.xlabel('Actual Price', size = 30)\n",
    "plt.ylabel('Predicted Price', size = 30);"
   ]
  },
  {
   "cell_type": "markdown",
   "id": "f021ad80",
   "metadata": {},
   "source": [
    "### Submission Dataframe"
   ]
  },
  {
   "cell_type": "code",
   "execution_count": 195,
   "id": "971f9f8d",
   "metadata": {},
   "outputs": [],
   "source": [
    "df_test['SalePrice'] = predict"
   ]
  },
  {
   "cell_type": "code",
   "execution_count": 196,
   "id": "aefa33a0",
   "metadata": {},
   "outputs": [],
   "source": [
    "lr_submission = df_test[['Id', 'SalePrice']]"
   ]
  },
  {
   "cell_type": "code",
   "execution_count": 197,
   "id": "cb4d5405",
   "metadata": {},
   "outputs": [],
   "source": [
    "lr_submission.set_index('Id', inplace=True)"
   ]
  },
  {
   "cell_type": "code",
   "execution_count": 198,
   "id": "54b59dd8",
   "metadata": {},
   "outputs": [
    {
     "data": {
      "text/html": [
       "<div>\n",
       "<style scoped>\n",
       "    .dataframe tbody tr th:only-of-type {\n",
       "        vertical-align: middle;\n",
       "    }\n",
       "\n",
       "    .dataframe tbody tr th {\n",
       "        vertical-align: top;\n",
       "    }\n",
       "\n",
       "    .dataframe thead th {\n",
       "        text-align: right;\n",
       "    }\n",
       "</style>\n",
       "<table border=\"1\" class=\"dataframe\">\n",
       "  <thead>\n",
       "    <tr style=\"text-align: right;\">\n",
       "      <th></th>\n",
       "      <th>SalePrice</th>\n",
       "    </tr>\n",
       "    <tr>\n",
       "      <th>Id</th>\n",
       "      <th></th>\n",
       "    </tr>\n",
       "  </thead>\n",
       "  <tbody>\n",
       "    <tr>\n",
       "      <th>2658</th>\n",
       "      <td>145507.892491</td>\n",
       "    </tr>\n",
       "    <tr>\n",
       "      <th>2718</th>\n",
       "      <td>162439.854360</td>\n",
       "    </tr>\n",
       "    <tr>\n",
       "      <th>2414</th>\n",
       "      <td>206580.495668</td>\n",
       "    </tr>\n",
       "  </tbody>\n",
       "</table>\n",
       "</div>"
      ],
      "text/plain": [
       "          SalePrice\n",
       "Id                 \n",
       "2658  145507.892491\n",
       "2718  162439.854360\n",
       "2414  206580.495668"
      ]
     },
     "execution_count": 198,
     "metadata": {},
     "output_type": "execute_result"
    }
   ],
   "source": [
    "lr_submission.head(3)"
   ]
  },
  {
   "cell_type": "code",
   "execution_count": 199,
   "id": "43e36451",
   "metadata": {},
   "outputs": [],
   "source": [
    "lr_submission.to_csv('../datasets/intgerlr6_submission.csv') "
   ]
  },
  {
   "cell_type": "code",
   "execution_count": null,
   "id": "511fbecc",
   "metadata": {},
   "outputs": [],
   "source": []
  }
 ],
 "metadata": {
  "kernelspec": {
   "display_name": "Python 3 (ipykernel)",
   "language": "python",
   "name": "python3"
  },
  "language_info": {
   "codemirror_mode": {
    "name": "ipython",
    "version": 3
   },
   "file_extension": ".py",
   "mimetype": "text/x-python",
   "name": "python",
   "nbconvert_exporter": "python",
   "pygments_lexer": "ipython3",
   "version": "3.9.12"
  }
 },
 "nbformat": 4,
 "nbformat_minor": 5
}
